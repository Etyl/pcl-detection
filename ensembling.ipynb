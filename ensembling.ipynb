{
  "cells": [
    {
      "cell_type": "markdown",
      "metadata": {
        "id": "kQRW0ws09Fqn"
      },
      "source": [
        "# Imports + GPU Setup"
      ]
    },
    {
      "cell_type": "code",
      "execution_count": 26,
      "metadata": {
        "colab": {
          "base_uri": "https://localhost:8080/"
        },
        "id": "E3osGRJB9Fqo",
        "outputId": "0b05beff-b579-46da-ab10-c3160adc0d0f"
      },
      "outputs": [
        {
          "name": "stdout",
          "output_type": "stream",
          "text": [
            "device: cuda\n"
          ]
        }
      ],
      "source": [
        "import os\n",
        "\n",
        "os.environ[\"WANDB_DISABLED\"] = \"true\"\n",
        "os.environ[\"CUDA_VISIBLE_DEVICES\"] = \"2\"\n",
        "os.environ[\"TOKENIZERS_PARALLELISM\"] = \"false\"\n",
        "\n",
        "\n",
        "import pandas as pd\n",
        "import numpy as np\n",
        "import torch\n",
        "import logging\n",
        "from sklearn.metrics import f1_score\n",
        "import matplotlib.pyplot as plt\n",
        "import seaborn as sns\n",
        "\n",
        "\n",
        "from simpletransformers.classification import ClassificationModel, ClassificationArgs\n",
        "\n",
        "from preprocessing import load_data, preprocess_data\n",
        "\n",
        "logging.basicConfig(level=logging.ERROR)\n",
        "\n",
        "device = 'cuda' if torch.cuda.is_available() else 'cpu'\n",
        "print(f'device: {device}')\n",
        "\n"
      ]
    },
    {
      "cell_type": "code",
      "execution_count": 4,
      "metadata": {},
      "outputs": [
        {
          "name": "stdout",
          "output_type": "stream",
          "text": [
            "True\n",
            "1\n",
            "Tesla V100S-PCIE-32GB\n"
          ]
        }
      ],
      "source": [
        "print(torch.cuda.is_available())\n",
        "print(torch.cuda.device_count())\n",
        "print(torch.cuda.get_device_name(0) if torch.cuda.is_available() else \"No GPU detected\")"
      ]
    },
    {
      "cell_type": "markdown",
      "metadata": {
        "id": "XMLFfJf39Fqp"
      },
      "source": [
        "# Data Setup\n",
        "\n",
        "Retrieves the data, applies the specified train and test split to organise data into **train_df** and **dev_df**."
      ]
    },
    {
      "cell_type": "code",
      "execution_count": 5,
      "metadata": {
        "colab": {
          "base_uri": "https://localhost:8080/"
        },
        "id": "G8JhqkAx9Fqp",
        "outputId": "dbe3f11e-31e8-40c1-bb94-ca90dec4dfb0"
      },
      "outputs": [],
      "source": [
        "train_df, dev_df, test_df = load_data()"
      ]
    },
    {
      "cell_type": "markdown",
      "metadata": {
        "id": "53rjPgc49Fqp"
      },
      "source": [
        "# Dataset"
      ]
    },
    {
      "cell_type": "code",
      "execution_count": 6,
      "metadata": {},
      "outputs": [],
      "source": [
        "processed_train_df = preprocess_data(train_df, clean_data=False, add_country=False, add_community=True)\n",
        "processed_dev_df = preprocess_data(dev_df, clean_data=False, add_country=False, add_community=True)\n",
        "processed_test_df = preprocess_data(test_df, clean_data=False, add_country=False, add_community=True)"
      ]
    },
    {
      "cell_type": "code",
      "execution_count": 7,
      "metadata": {},
      "outputs": [
        {
          "data": {
            "text/html": [
              "<div>\n",
              "<style scoped>\n",
              "    .dataframe tbody tr th:only-of-type {\n",
              "        vertical-align: middle;\n",
              "    }\n",
              "\n",
              "    .dataframe tbody tr th {\n",
              "        vertical-align: top;\n",
              "    }\n",
              "\n",
              "    .dataframe thead th {\n",
              "        text-align: right;\n",
              "    }\n",
              "</style>\n",
              "<table border=\"1\" class=\"dataframe\">\n",
              "  <thead>\n",
              "    <tr style=\"text-align: right;\">\n",
              "      <th></th>\n",
              "      <th>par_id</th>\n",
              "      <th>country</th>\n",
              "      <th>text</th>\n",
              "      <th>community</th>\n",
              "    </tr>\n",
              "  </thead>\n",
              "  <tbody>\n",
              "    <tr>\n",
              "      <th>0</th>\n",
              "      <td>t_0</td>\n",
              "      <td>us</td>\n",
              "      <td>vulnerable , In the meantime , conservatives a...</td>\n",
              "      <td>vulnerable</td>\n",
              "    </tr>\n",
              "    <tr>\n",
              "      <th>1</th>\n",
              "      <td>t_1</td>\n",
              "      <td>pk</td>\n",
              "      <td>women , In most poor households with no educat...</td>\n",
              "      <td>women</td>\n",
              "    </tr>\n",
              "    <tr>\n",
              "      <th>2</th>\n",
              "      <td>t_2</td>\n",
              "      <td>ca</td>\n",
              "      <td>migrant , The real question is not whether imm...</td>\n",
              "      <td>migrant</td>\n",
              "    </tr>\n",
              "    <tr>\n",
              "      <th>3</th>\n",
              "      <td>t_3</td>\n",
              "      <td>gb</td>\n",
              "      <td>migrant , In total , the country 's immigrant ...</td>\n",
              "      <td>migrant</td>\n",
              "    </tr>\n",
              "    <tr>\n",
              "      <th>4</th>\n",
              "      <td>t_4</td>\n",
              "      <td>ca</td>\n",
              "      <td>vulnerable , Members of the church , which is ...</td>\n",
              "      <td>vulnerable</td>\n",
              "    </tr>\n",
              "    <tr>\n",
              "      <th>...</th>\n",
              "      <td>...</td>\n",
              "      <td>...</td>\n",
              "      <td>...</td>\n",
              "      <td>...</td>\n",
              "    </tr>\n",
              "    <tr>\n",
              "      <th>3827</th>\n",
              "      <td>t_3893</td>\n",
              "      <td>jm</td>\n",
              "      <td>migrant , In a letter dated Thursday to Europe...</td>\n",
              "      <td>migrant</td>\n",
              "    </tr>\n",
              "    <tr>\n",
              "      <th>3828</th>\n",
              "      <td>t_3894</td>\n",
              "      <td>au</td>\n",
              "      <td>poor-families , They discovered that poor fami...</td>\n",
              "      <td>poor-families</td>\n",
              "    </tr>\n",
              "    <tr>\n",
              "      <th>3829</th>\n",
              "      <td>t_3895</td>\n",
              "      <td>ca</td>\n",
              "      <td>migrant , She married at 19 , to Milan ( Emil ...</td>\n",
              "      <td>migrant</td>\n",
              "    </tr>\n",
              "    <tr>\n",
              "      <th>3830</th>\n",
              "      <td>t_3896</td>\n",
              "      <td>us</td>\n",
              "      <td>immigrant , The United Kingdom is n't going to...</td>\n",
              "      <td>immigrant</td>\n",
              "    </tr>\n",
              "    <tr>\n",
              "      <th>3831</th>\n",
              "      <td>t_3897</td>\n",
              "      <td>ng</td>\n",
              "      <td>poor-families , This moral battle informed the...</td>\n",
              "      <td>poor-families</td>\n",
              "    </tr>\n",
              "  </tbody>\n",
              "</table>\n",
              "<p>3832 rows × 4 columns</p>\n",
              "</div>"
            ],
            "text/plain": [
              "      par_id country                                               text  \\\n",
              "0        t_0      us  vulnerable , In the meantime , conservatives a...   \n",
              "1        t_1      pk  women , In most poor households with no educat...   \n",
              "2        t_2      ca  migrant , The real question is not whether imm...   \n",
              "3        t_3      gb  migrant , In total , the country 's immigrant ...   \n",
              "4        t_4      ca  vulnerable , Members of the church , which is ...   \n",
              "...      ...     ...                                                ...   \n",
              "3827  t_3893      jm  migrant , In a letter dated Thursday to Europe...   \n",
              "3828  t_3894      au  poor-families , They discovered that poor fami...   \n",
              "3829  t_3895      ca  migrant , She married at 19 , to Milan ( Emil ...   \n",
              "3830  t_3896      us  immigrant , The United Kingdom is n't going to...   \n",
              "3831  t_3897      ng  poor-families , This moral battle informed the...   \n",
              "\n",
              "          community  \n",
              "0        vulnerable  \n",
              "1             women  \n",
              "2           migrant  \n",
              "3           migrant  \n",
              "4        vulnerable  \n",
              "...             ...  \n",
              "3827        migrant  \n",
              "3828  poor-families  \n",
              "3829        migrant  \n",
              "3830      immigrant  \n",
              "3831  poor-families  \n",
              "\n",
              "[3832 rows x 4 columns]"
            ]
          },
          "execution_count": 7,
          "metadata": {},
          "output_type": "execute_result"
        }
      ],
      "source": [
        "processed_test_df"
      ]
    },
    {
      "cell_type": "markdown",
      "metadata": {},
      "source": [
        "# TRAINING"
      ]
    },
    {
      "cell_type": "code",
      "execution_count": 8,
      "metadata": {},
      "outputs": [],
      "source": [
        "def set_seed(i):\n",
        "    torch.manual_seed(i)\n",
        "    np.random.seed(i)"
      ]
    },
    {
      "cell_type": "code",
      "execution_count": 9,
      "metadata": {},
      "outputs": [],
      "source": [
        "class EnsembleClassifier:\n",
        "    def __init__(self, models_list):\n",
        "        task1_model_args = ClassificationArgs(\n",
        "            num_train_epochs=5,\n",
        "            no_save=False,          # Allows saving\n",
        "            no_cache=True,\n",
        "            overwrite_output_dir=True,\n",
        "            train_batch_size=16,\n",
        "            learning_rate=1e-5,\n",
        "            output_dir='saved_model',\n",
        "            save_model_every_epoch=False,\n",
        "            save_steps=-1,          # Disable intermediate saves\n",
        "            use_multiprocessing= False, \n",
        "            use_multiprocessing_for_evaluation=False,\n",
        "            process_count= 1,\n",
        "        )\n",
        "        self.models = []\n",
        "        for model_file in models_list:\n",
        "            model = ClassificationModel(\n",
        "                'roberta',\n",
        "                f\"saved_models/{model_file}\",\n",
        "                args=task1_model_args,\n",
        "            )\n",
        "            self.models.append(model)\n",
        "    \n",
        "    def predict(self, text_list):\n",
        "        preds = []\n",
        "        outputs = []\n",
        "        for model in self.models:\n",
        "            pred, output = model.predict(text_list)\n",
        "            preds.append(pred)\n",
        "            outputs.append(output)\n",
        "        \n",
        "        preds = np.array(preds)\n",
        "        outputs = np.array(outputs)\n",
        "\n",
        "        majority_pred = np.mean(preds, axis=0) >= 0.5\n",
        "        soft_pred = np.mean(outputs, axis=0)\n",
        "        soft_pred = np.argmax(soft_pred, axis=-1)\n",
        "        return majority_pred.astype(int), soft_pred.astype(int)\n",
        "\n",
        "\n",
        "\n",
        "\n"
      ]
    },
    {
      "cell_type": "code",
      "execution_count": 10,
      "metadata": {},
      "outputs": [],
      "source": [
        "saved_models = [\n",
        "    \"model-large-2\",\n",
        "    \"model-large-5\",\n",
        "    \"model-large-nwrs-0\",\n",
        "    \"model-large-nwrs-1\",\n",
        "    \"model-large-nwrs-2\"\n",
        "]"
      ]
    },
    {
      "cell_type": "code",
      "execution_count": 11,
      "metadata": {},
      "outputs": [],
      "source": [
        "model = EnsembleClassifier(models_list=saved_models)"
      ]
    },
    {
      "cell_type": "code",
      "execution_count": 12,
      "metadata": {},
      "outputs": [
        {
          "data": {
            "application/vnd.jupyter.widget-view+json": {
              "model_id": "82450ac65da946dfbe46ad2ae64b64e0",
              "version_major": 2,
              "version_minor": 0
            },
            "text/plain": [
              "  0%|          | 0/21 [00:00<?, ?it/s]"
            ]
          },
          "metadata": {},
          "output_type": "display_data"
        },
        {
          "name": "stderr",
          "output_type": "stream",
          "text": [
            "/home/infres/hverninas-22/miniconda3/lib/python3.12/site-packages/simpletransformers/classification/classification_model.py:2188: FutureWarning: `torch.cuda.amp.autocast(args...)` is deprecated. Please use `torch.amp.autocast('cuda', args...)` instead.\n",
            "  with amp.autocast():\n"
          ]
        },
        {
          "data": {
            "application/vnd.jupyter.widget-view+json": {
              "model_id": "8ab1ee08d4b24b81b8f59d1f7d29ded6",
              "version_major": 2,
              "version_minor": 0
            },
            "text/plain": [
              "  0%|          | 0/21 [00:00<?, ?it/s]"
            ]
          },
          "metadata": {},
          "output_type": "display_data"
        },
        {
          "data": {
            "application/vnd.jupyter.widget-view+json": {
              "model_id": "dfeeff24dc514afb86e35821da3d1161",
              "version_major": 2,
              "version_minor": 0
            },
            "text/plain": [
              "  0%|          | 0/21 [00:00<?, ?it/s]"
            ]
          },
          "metadata": {},
          "output_type": "display_data"
        },
        {
          "data": {
            "application/vnd.jupyter.widget-view+json": {
              "model_id": "3dd3311917be4dcf8a826d4c1b613aef",
              "version_major": 2,
              "version_minor": 0
            },
            "text/plain": [
              "  0%|          | 0/21 [00:00<?, ?it/s]"
            ]
          },
          "metadata": {},
          "output_type": "display_data"
        },
        {
          "data": {
            "application/vnd.jupyter.widget-view+json": {
              "model_id": "4b3e36f2cc1b404fae036755d1dfa1ef",
              "version_major": 2,
              "version_minor": 0
            },
            "text/plain": [
              "  0%|          | 0/21 [00:00<?, ?it/s]"
            ]
          },
          "metadata": {},
          "output_type": "display_data"
        }
      ],
      "source": [
        "hard_pred, soft_pred = model.predict(processed_dev_df[\"text\"].tolist())"
      ]
    },
    {
      "cell_type": "code",
      "execution_count": 13,
      "metadata": {},
      "outputs": [],
      "source": [
        "wrong_preds = hard_pred != processed_dev_df[\"label\"]"
      ]
    },
    {
      "cell_type": "code",
      "execution_count": 15,
      "metadata": {},
      "outputs": [],
      "source": [
        "df_wrong_preds = dev_df.loc[wrong_preds]"
      ]
    },
    {
      "cell_type": "code",
      "execution_count": 20,
      "metadata": {},
      "outputs": [
        {
          "data": {
            "image/png": "[encoded data removed]",
            "text/plain": [
              "<Figure size 640x480 with 1 Axes>"
            ]
          },
          "metadata": {},
          "output_type": "display_data"
        }
      ],
      "source": [
        "df_wrong_preds[\"community\"].value_counts().sort_index().plot(kind='bar', color='green')\n",
        "# plt.title('Community Distribution of Wrong Predictions for Dev set')\n",
        "plt.xlabel('Community')\n",
        "plt.ylabel('Count')\n",
        "\n",
        "plt.show()"
      ]
    },
    {
      "cell_type": "code",
      "execution_count": 30,
      "metadata": {},
      "outputs": [
        {
          "data": {
            "text/html": [
              "<div>\n",
              "<style scoped>\n",
              "    .dataframe tbody tr th:only-of-type {\n",
              "        vertical-align: middle;\n",
              "    }\n",
              "\n",
              "    .dataframe tbody tr th {\n",
              "        vertical-align: top;\n",
              "    }\n",
              "\n",
              "    .dataframe thead th {\n",
              "        text-align: right;\n",
              "    }\n",
              "</style>\n",
              "<table border=\"1\" class=\"dataframe\">\n",
              "  <thead>\n",
              "    <tr style=\"text-align: right;\">\n",
              "      <th></th>\n",
              "      <th>par_id</th>\n",
              "      <th>community</th>\n",
              "      <th>country</th>\n",
              "      <th>text</th>\n",
              "      <th>label</th>\n",
              "      <th>length</th>\n",
              "    </tr>\n",
              "  </thead>\n",
              "  <tbody>\n",
              "    <tr>\n",
              "      <th>0</th>\n",
              "      <td>4046</td>\n",
              "      <td>hopeless</td>\n",
              "      <td>us</td>\n",
              "      <td>We also know that they can benefit by receivin...</td>\n",
              "      <td>1</td>\n",
              "      <td>493</td>\n",
              "    </tr>\n",
              "    <tr>\n",
              "      <th>2</th>\n",
              "      <td>8330</td>\n",
              "      <td>refugee</td>\n",
              "      <td>ng</td>\n",
              "      <td>Many refugees do n't want to be resettled anyw...</td>\n",
              "      <td>1</td>\n",
              "      <td>74</td>\n",
              "    </tr>\n",
              "    <tr>\n",
              "      <th>4</th>\n",
              "      <td>4089</td>\n",
              "      <td>homeless</td>\n",
              "      <td>pk</td>\n",
              "      <td>\"In a 90-degree view of his constituency , one...</td>\n",
              "      <td>1</td>\n",
              "      <td>355</td>\n",
              "    </tr>\n",
              "    <tr>\n",
              "      <th>5</th>\n",
              "      <td>432</td>\n",
              "      <td>refugee</td>\n",
              "      <td>nz</td>\n",
              "      <td>He depicts demonstrations by refugees at the b...</td>\n",
              "      <td>1</td>\n",
              "      <td>229</td>\n",
              "    </tr>\n",
              "    <tr>\n",
              "      <th>8</th>\n",
              "      <td>2001</td>\n",
              "      <td>poor-families</td>\n",
              "      <td>tz</td>\n",
              "      <td>t is remiss not to mention here that not all s...</td>\n",
              "      <td>1</td>\n",
              "      <td>161</td>\n",
              "    </tr>\n",
              "    <tr>\n",
              "      <th>...</th>\n",
              "      <td>...</td>\n",
              "      <td>...</td>\n",
              "      <td>...</td>\n",
              "      <td>...</td>\n",
              "      <td>...</td>\n",
              "      <td>...</td>\n",
              "    </tr>\n",
              "    <tr>\n",
              "      <th>1852</th>\n",
              "      <td>10200</td>\n",
              "      <td>refugee</td>\n",
              "      <td>in</td>\n",
              "      <td>She also praised the efforts to stabilise the ...</td>\n",
              "      <td>0</td>\n",
              "      <td>376</td>\n",
              "    </tr>\n",
              "    <tr>\n",
              "      <th>1881</th>\n",
              "      <td>10230</td>\n",
              "      <td>poor-families</td>\n",
              "      <td>au</td>\n",
              "      <td>Delhi : Going on stage at school and acting ou...</td>\n",
              "      <td>0</td>\n",
              "      <td>274</td>\n",
              "    </tr>\n",
              "    <tr>\n",
              "      <th>1907</th>\n",
              "      <td>10260</td>\n",
              "      <td>homeless</td>\n",
              "      <td>za</td>\n",
              "      <td>\"\"\" Not homeless -- but STARVING for success ....</td>\n",
              "      <td>0</td>\n",
              "      <td>195</td>\n",
              "    </tr>\n",
              "    <tr>\n",
              "      <th>1923</th>\n",
              "      <td>10277</td>\n",
              "      <td>disabled</td>\n",
              "      <td>ng</td>\n",
              "      <td>\"\"\" This definitive outcome is a testament to ...</td>\n",
              "      <td>0</td>\n",
              "      <td>293</td>\n",
              "    </tr>\n",
              "    <tr>\n",
              "      <th>2073</th>\n",
              "      <td>10444</td>\n",
              "      <td>poor-families</td>\n",
              "      <td>ng</td>\n",
              "      <td>Desertification which affects Yunusari , Yusuf...</td>\n",
              "      <td>0</td>\n",
              "      <td>570</td>\n",
              "    </tr>\n",
              "  </tbody>\n",
              "</table>\n",
              "<p>137 rows × 6 columns</p>\n",
              "</div>"
            ],
            "text/plain": [
              "     par_id      community country  \\\n",
              "0      4046       hopeless      us   \n",
              "2      8330        refugee      ng   \n",
              "4      4089       homeless      pk   \n",
              "5       432        refugee      nz   \n",
              "8      2001  poor-families      tz   \n",
              "...     ...            ...     ...   \n",
              "1852  10200        refugee      in   \n",
              "1881  10230  poor-families      au   \n",
              "1907  10260       homeless      za   \n",
              "1923  10277       disabled      ng   \n",
              "2073  10444  poor-families      ng   \n",
              "\n",
              "                                                   text  label  length  \n",
              "0     We also know that they can benefit by receivin...      1     493  \n",
              "2     Many refugees do n't want to be resettled anyw...      1      74  \n",
              "4     \"In a 90-degree view of his constituency , one...      1     355  \n",
              "5     He depicts demonstrations by refugees at the b...      1     229  \n",
              "8     t is remiss not to mention here that not all s...      1     161  \n",
              "...                                                 ...    ...     ...  \n",
              "1852  She also praised the efforts to stabilise the ...      0     376  \n",
              "1881  Delhi : Going on stage at school and acting ou...      0     274  \n",
              "1907  \"\"\" Not homeless -- but STARVING for success ....      0     195  \n",
              "1923  \"\"\" This definitive outcome is a testament to ...      0     293  \n",
              "2073  Desertification which affects Yunusari , Yusuf...      0     570  \n",
              "\n",
              "[137 rows x 6 columns]"
            ]
          },
          "execution_count": 30,
          "metadata": {},
          "output_type": "execute_result"
        }
      ],
      "source": [
        "df_wrong_preds"
      ]
    },
    {
      "cell_type": "code",
      "execution_count": 23,
      "metadata": {},
      "outputs": [],
      "source": [
        "df_wrong_preds = df_wrong_preds.copy()\n",
        "df_wrong_preds[\"length\"] = df_wrong_preds[\"text\"].apply(lambda x: len(x))"
      ]
    },
    {
      "cell_type": "code",
      "execution_count": 29,
      "metadata": {},
      "outputs": [
        {
          "data": {
            "image/png": "[encoded data removed]",
            "text/plain": [
              "<Figure size 640x480 with 1 Axes>"
            ]
          },
          "metadata": {},
          "output_type": "display_data"
        }
      ],
      "source": [
        "bins = np.linspace(0,1000,20)\n",
        "sns.histplot(df_wrong_preds['length'], bins=bins, kde=False)\n",
        "plt.xlabel('Text Size')\n",
        "plt.ylabel('Count')\n",
        "plt.show()"
      ]
    },
    {
      "cell_type": "code",
      "execution_count": null,
      "metadata": {},
      "outputs": [],
      "source": [
        "with open(\"wrongs_preds.txt\",\"w\") as f:\n",
        "    for i,row in dev_df.loc[wrong_preds].iterrows():\n",
        "        f.write(f\"{row.community} ({row.label}) : {row.text}\\n\")"
      ]
    },
    {
      "cell_type": "code",
      "execution_count": 14,
      "metadata": {},
      "outputs": [
        {
          "name": "stdout",
          "output_type": "stream",
          "text": [
            "f1 hard: 0.6404199475065617\n",
            "f1 soft: 0.6266318537859008\n"
          ]
        }
      ],
      "source": [
        "print(\"f1 hard:\", f1_score(processed_dev_df[\"label\"].tolist(),hard_pred))\n",
        "print(\"f1 soft:\", f1_score(processed_dev_df[\"label\"].tolist(),soft_pred))"
      ]
    },
    {
      "cell_type": "code",
      "execution_count": 46,
      "metadata": {},
      "outputs": [],
      "source": [
        "with open(\"dev_set_predictions.txt\", \"w\") as f:\n",
        "    for x in hard_pred:\n",
        "        f.write(str(x)+'\\n')"
      ]
    },
    {
      "cell_type": "code",
      "execution_count": 39,
      "metadata": {},
      "outputs": [
        {
          "data": {
            "application/vnd.jupyter.widget-view+json": {
              "model_id": "17523a50523b4db684b455845cad7d45",
              "version_major": 2,
              "version_minor": 0
            },
            "text/plain": [
              "  0%|          | 0/39 [00:00<?, ?it/s]"
            ]
          },
          "metadata": {},
          "output_type": "display_data"
        },
        {
          "name": "stderr",
          "output_type": "stream",
          "text": [
            "/home/infres/hverninas-22/miniconda3/lib/python3.12/site-packages/simpletransformers/classification/classification_model.py:2188: FutureWarning: `torch.cuda.amp.autocast(args...)` is deprecated. Please use `torch.amp.autocast('cuda', args...)` instead.\n",
            "  with amp.autocast():\n"
          ]
        },
        {
          "data": {
            "application/vnd.jupyter.widget-view+json": {
              "model_id": "b19ab2f3aff64025b717f396fabe97b8",
              "version_major": 2,
              "version_minor": 0
            },
            "text/plain": [
              "  0%|          | 0/39 [00:00<?, ?it/s]"
            ]
          },
          "metadata": {},
          "output_type": "display_data"
        },
        {
          "data": {
            "application/vnd.jupyter.widget-view+json": {
              "model_id": "689be85af88d49829db3442250d65518",
              "version_major": 2,
              "version_minor": 0
            },
            "text/plain": [
              "  0%|          | 0/39 [00:00<?, ?it/s]"
            ]
          },
          "metadata": {},
          "output_type": "display_data"
        },
        {
          "data": {
            "application/vnd.jupyter.widget-view+json": {
              "model_id": "597ac093742a41bc8d442dcd59515f0c",
              "version_major": 2,
              "version_minor": 0
            },
            "text/plain": [
              "  0%|          | 0/39 [00:00<?, ?it/s]"
            ]
          },
          "metadata": {},
          "output_type": "display_data"
        },
        {
          "data": {
            "application/vnd.jupyter.widget-view+json": {
              "model_id": "ea990df992d3449ca58d8cc9620930bf",
              "version_major": 2,
              "version_minor": 0
            },
            "text/plain": [
              "  0%|          | 0/39 [00:00<?, ?it/s]"
            ]
          },
          "metadata": {},
          "output_type": "display_data"
        }
      ],
      "source": [
        "hard_pred, soft_pred = model.predict(processed_test_df[\"text\"].tolist())"
      ]
    },
    {
      "cell_type": "code",
      "execution_count": 41,
      "metadata": {},
      "outputs": [],
      "source": [
        "with open(\"test_set_predictions.txt\", \"w\") as f:\n",
        "    for x in hard_pred:\n",
        "        f.write(str(x)+'\\n')"
      ]
    },
    {
      "cell_type": "code",
      "execution_count": null,
      "metadata": {},
      "outputs": [],
      "source": []
    }
  ],
  "metadata": {
    "accelerator": "GPU",
    "colab": {
      "gpuType": "T4",
      "provenance": []
    },
    "kernelspec": {
      "display_name": "base",
      "language": "python",
      "name": "python3"
    },
    "language_info": {
      "codemirror_mode": {
        "name": "ipython",
        "version": 3
      },
      "file_extension": ".py",
      "mimetype": "text/x-python",
      "name": "python",
      "nbconvert_exporter": "python",
      "pygments_lexer": "ipython3",
      "version": "3.12.2"
    }
  },
  "nbformat": 4,
  "nbformat_minor": 0
}
